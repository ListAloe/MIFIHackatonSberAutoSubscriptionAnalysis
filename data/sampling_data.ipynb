{
 "cells": [
  {
   "cell_type": "code",
   "execution_count": 11,
   "id": "96f76c2b-3065-4b8c-a52f-c2dc5ecc4029",
   "metadata": {},
   "outputs": [
    {
     "name": "stderr",
     "output_type": "stream",
     "text": [
      "Обработка файлов: 100%|█████████████████████████| 2/2 [00:01<00:00,  1.58файл/s]"
     ]
    },
    {
     "name": "stdout",
     "output_type": "stream",
     "text": [
      "\n",
      "Обработка завершена! Сэмплы сохранены в папку: sample_processed_data/\n"
     ]
    },
    {
     "name": "stderr",
     "output_type": "stream",
     "text": [
      "\n"
     ]
    }
   ],
   "source": [
    "import pandas as pd\n",
    "import os\n",
    "from tqdm import tqdm\n",
    "\n",
    "input_dir = \"processed_data\"\n",
    "output_dir = \"sample_processed_data\"\n",
    "\n",
    "os.makedirs(output_dir, exist_ok=True)\n",
    "files = [f for f in os.listdir(input_dir) if f.endswith((\".csv\", \".pkl\"))]\n",
    "\n",
    "for file in tqdm(files, desc=\"Обработка файлов\", unit=\"файл\"):\n",
    "    try:\n",
    "        ext = os.path.splitext(file)[1]\n",
    "        base = os.path.splitext(file)[0]\n",
    "        input_path = os.path.join(input_dir, file)\n",
    "        output_path = os.path.join(output_dir, f\"sample_{base}{ext}\")\n",
    "\n",
    "        # Загрузка данных\n",
    "        if ext == \".pkl\":\n",
    "            df = pd.read_pickle(input_path)\n",
    "        elif ext == \".csv\":\n",
    "            df = pd.read_csv(input_path)\n",
    "        else:\n",
    "            print(f\"Пропуск: неподдерживаемый формат {file}\")\n",
    "            continue\n",
    "\n",
    "        # Проверка на пустоту\n",
    "        if df.empty:\n",
    "            print(f\"Файл {file} пуст. Пропуск.\")\n",
    "            continue\n",
    "\n",
    "        # Выборка\n",
    "        sample_size = min(10, len(df))\n",
    "        sample_df = df.sample(n=sample_size, random_state=42)  # или без random_state\n",
    "\n",
    "        # Сохранение\n",
    "        if ext == \".pkl\":\n",
    "            sample_df.to_pickle(output_path)\n",
    "        elif ext == \".csv\":\n",
    "            sample_df.to_csv(output_path, index=False)\n",
    "\n",
    "    except Exception as e:\n",
    "        print(f\"Ошибка при обработке {file}: {str(e)}\")\n",
    "\n",
    "print(f\"\\nОбработка завершена! Сэмплы сохранены в папку: {output_dir}/\")"
   ]
  },
  {
   "cell_type": "code",
   "execution_count": null,
   "id": "f4746ba6-ccef-405d-88e2-94d02a4041d3",
   "metadata": {},
   "outputs": [],
   "source": []
  }
 ],
 "metadata": {
  "kernelspec": {
   "display_name": "Python [conda env:base] *",
   "language": "python",
   "name": "conda-base-py"
  },
  "language_info": {
   "codemirror_mode": {
    "name": "ipython",
    "version": 3
   },
   "file_extension": ".py",
   "mimetype": "text/x-python",
   "name": "python",
   "nbconvert_exporter": "python",
   "pygments_lexer": "ipython3",
   "version": "3.12.7"
  }
 },
 "nbformat": 4,
 "nbformat_minor": 5
}
