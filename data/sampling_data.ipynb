{
 "cells": [
  {
   "cell_type": "code",
   "execution_count": 15,
   "id": "96f76c2b-3065-4b8c-a52f-c2dc5ecc4029",
   "metadata": {},
   "outputs": [
    {
     "ename": "FileNotFoundError",
     "evalue": "[Errno 2] No such file or directory: 'processed_data'",
     "output_type": "error",
     "traceback": [
      "\u001b[0;31m---------------------------------------------------------------------------\u001b[0m",
      "\u001b[0;31mFileNotFoundError\u001b[0m                         Traceback (most recent call last)",
      "Cell \u001b[0;32mIn[15], line 13\u001b[0m\n\u001b[1;32m     10\u001b[0m os\u001b[38;5;241m.\u001b[39mmakedirs(output_dir, exist_ok\u001b[38;5;241m=\u001b[39m\u001b[38;5;28;01mTrue\u001b[39;00m)\n\u001b[1;32m     12\u001b[0m \u001b[38;5;66;03m# Список всех .csv и .pkl файлов из raw_data\u001b[39;00m\n\u001b[0;32m---> 13\u001b[0m files \u001b[38;5;241m=\u001b[39m [f \u001b[38;5;28;01mfor\u001b[39;00m f \u001b[38;5;129;01min\u001b[39;00m os\u001b[38;5;241m.\u001b[39mlistdir(input_dir) \u001b[38;5;28;01mif\u001b[39;00m f\u001b[38;5;241m.\u001b[39mendswith((\u001b[38;5;124m\"\u001b[39m\u001b[38;5;124m.csv\u001b[39m\u001b[38;5;124m\"\u001b[39m, \u001b[38;5;124m\"\u001b[39m\u001b[38;5;124m.pkl\u001b[39m\u001b[38;5;124m\"\u001b[39m))]\n\u001b[1;32m     15\u001b[0m \u001b[38;5;66;03m# Основной цикл с прогрессбаром\u001b[39;00m\n\u001b[1;32m     16\u001b[0m \u001b[38;5;28;01mfor\u001b[39;00m file \u001b[38;5;129;01min\u001b[39;00m tqdm(files, desc\u001b[38;5;241m=\u001b[39m\u001b[38;5;124m\"\u001b[39m\u001b[38;5;124mОбработка файлов\u001b[39m\u001b[38;5;124m\"\u001b[39m, unit\u001b[38;5;241m=\u001b[39m\u001b[38;5;124m\"\u001b[39m\u001b[38;5;124mфайл\u001b[39m\u001b[38;5;124m\"\u001b[39m):\n",
      "\u001b[0;31mFileNotFoundError\u001b[0m: [Errno 2] No such file or directory: 'processed_data'"
     ]
    }
   ],
   "source": [
    "import pandas as pd\n",
    "import os\n",
    "from tqdm import tqdm\n",
    "\n",
    "# Папки\n",
    "input_dir = \"processed_data\"\n",
    "output_dir = \"sample_processed_data\"\n",
    "\n",
    "# Создание папки для выходных данных, если не существует\n",
    "os.makedirs(output_dir, exist_ok=True)\n",
    "\n",
    "# Список всех .csv и .pkl файлов из raw_data\n",
    "files = [f for f in os.listdir(input_dir) if f.endswith((\".csv\", \".pkl\"))]\n",
    "\n",
    "# Основной цикл с прогрессбаром\n",
    "for file in tqdm(files, desc=\"Обработка файлов\", unit=\"файл\"):\n",
    "    try:\n",
    "        ext = os.path.splitext(file)[1]   # \".pkl\" или \".csv\"\n",
    "        base = os.path.splitext(file)[0]  # имя без расширения\n",
    "\n",
    "        input_path = os.path.join(input_dir, file)\n",
    "        output_path = os.path.join(output_dir, f\"sample_{base}{ext}\")\n",
    "\n",
    "        # Загрузка\n",
    "        if ext == \".pkl\":\n",
    "            df = pd.read_pickle(input_path)\n",
    "        elif ext == \".csv\":\n",
    "            df = pd.read_csv(input_path)\n",
    "            continue\n",
    "        else:\n",
    "            print(f\"Пропуск: неподдерживаемый формат {file}\")\n",
    "            continue\n",
    "\n",
    "        # Сэмпл\n",
    "        sample_df = df.sample(n=min(50, len(df)), random_state=42)\n",
    "\n",
    "        # Сохранение\n",
    "        if ext == \".pkl\":\n",
    "            sample_df.to_pickle(output_path)\n",
    "        elif ext == \".csv\":\n",
    "            sample_df.to_csv(output_path, index=False)\n",
    "\n",
    "    except Exception as e:\n",
    "        print(f\"Ошибка при обработке {file}: {e}\")\n",
    "\n",
    "# Финальное сообщение\n",
    "print(f\"\\n Обработка завершена! Сэмплы сохранены в папку: {output_dir}/\")\n"
   ]
  },
  {
   "cell_type": "code",
   "execution_count": null,
   "id": "f4746ba6-ccef-405d-88e2-94d02a4041d3",
   "metadata": {},
   "outputs": [],
   "source": []
  }
 ],
 "metadata": {
  "kernelspec": {
   "display_name": "Python [conda env:base] *",
   "language": "python",
   "name": "conda-base-py"
  },
  "language_info": {
   "codemirror_mode": {
    "name": "ipython",
    "version": 3
   },
   "file_extension": ".py",
   "mimetype": "text/x-python",
   "name": "python",
   "nbconvert_exporter": "python",
   "pygments_lexer": "ipython3",
   "version": "3.12.7"
  }
 },
 "nbformat": 4,
 "nbformat_minor": 5
}
