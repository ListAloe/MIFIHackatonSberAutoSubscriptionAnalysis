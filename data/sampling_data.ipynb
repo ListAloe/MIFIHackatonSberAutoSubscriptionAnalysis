{
 "cells": [
  {
   "cell_type": "code",
   "execution_count": 4,
   "id": "96f76c2b-3065-4b8c-a52f-c2dc5ecc4029",
   "metadata": {},
   "outputs": [
    {
     "name": "stderr",
     "output_type": "stream",
     "text": [
      "Обработка файлов:  75%|██████████████████▊      | 3/4 [02:42<00:54, 54.79s/файл]/var/folders/hn/tkf0_38d2d1ccs6db5_mfvmw0000gn/T/ipykernel_1662/3716519928.py:28: DtypeWarning: Columns (1) have mixed types. Specify dtype option on import or set low_memory=False.\n",
      "  df = pd.read_csv(input_path)\n",
      "Обработка файлов: 100%|█████████████████████████| 4/4 [02:46<00:00, 41.61s/файл]"
     ]
    },
    {
     "name": "stdout",
     "output_type": "stream",
     "text": [
      "\n",
      "🎉 Обработка завершена! Сэмплы сохранены в папку: sample_data/\n"
     ]
    },
    {
     "name": "stderr",
     "output_type": "stream",
     "text": [
      "\n"
     ]
    }
   ],
   "source": [
    "import pandas as pd\n",
    "import os\n",
    "from tqdm import tqdm\n",
    "\n",
    "# 📂 Папки\n",
    "input_dir = \"raw_data\"\n",
    "output_dir = \"sample_data\"\n",
    "\n",
    "# 🛠 Создание папки для выходных данных, если не существует\n",
    "os.makedirs(output_dir, exist_ok=True)\n",
    "\n",
    "# 📄 Список всех .csv и .pkl файлов из raw_data\n",
    "files = [f for f in os.listdir(input_dir) if f.endswith((\".csv\", \".pkl\"))]\n",
    "\n",
    "# 🚀 Основной цикл с прогрессбаром\n",
    "for file in tqdm(files, desc=\"Обработка файлов\", unit=\"файл\"):\n",
    "    try:\n",
    "        ext = os.path.splitext(file)[1]   # \".pkl\" или \".csv\"\n",
    "        base = os.path.splitext(file)[0]  # имя без расширения\n",
    "\n",
    "        input_path = os.path.join(input_dir, file)\n",
    "        output_path = os.path.join(output_dir, f\"sample_{base}{ext}\")\n",
    "\n",
    "        # 📥 Загрузка\n",
    "        if ext == \".pkl\":\n",
    "            df = pd.read_pickle(input_path)\n",
    "        elif ext == \".csv\":\n",
    "            df = pd.read_csv(input_path)\n",
    "        else:\n",
    "            print(f\"⚠️ Пропуск: неподдерживаемый формат {file}\")\n",
    "            continue\n",
    "\n",
    "        # ✂️ Сэмпл\n",
    "        sample_df = df.sample(n=min(50, len(df)), random_state=42)\n",
    "\n",
    "        # 💾 Сохранение\n",
    "        if ext == \".pkl\":\n",
    "            sample_df.to_pickle(output_path)\n",
    "        elif ext == \".csv\":\n",
    "            sample_df.to_csv(output_path, index=False)\n",
    "\n",
    "    except Exception as e:\n",
    "        print(f\"❌ Ошибка при обработке {file}: {e}\")\n",
    "\n",
    "# ✅ Финальное сообщение\n",
    "print(f\"\\n🎉 Обработка завершена! Сэмплы сохранены в папку: {output_dir}/\")\n"
   ]
  },
  {
   "cell_type": "code",
   "execution_count": null,
   "id": "f4746ba6-ccef-405d-88e2-94d02a4041d3",
   "metadata": {},
   "outputs": [],
   "source": []
  }
 ],
 "metadata": {
  "kernelspec": {
   "display_name": "Python [conda env:base] *",
   "language": "python",
   "name": "conda-base-py"
  },
  "language_info": {
   "codemirror_mode": {
    "name": "ipython",
    "version": 3
   },
   "file_extension": ".py",
   "mimetype": "text/x-python",
   "name": "python",
   "nbconvert_exporter": "python",
   "pygments_lexer": "ipython3",
   "version": "3.12.7"
  }
 },
 "nbformat": 4,
 "nbformat_minor": 5
}
