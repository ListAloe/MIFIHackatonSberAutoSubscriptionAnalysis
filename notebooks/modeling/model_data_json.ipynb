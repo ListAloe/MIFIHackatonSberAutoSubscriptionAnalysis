{
 "cells": [
  {
   "cell_type": "code",
   "execution_count": 8,
   "id": "58c1f04b-1f44-4c9f-937e-d6e12330ee79",
   "metadata": {},
   "outputs": [
    {
     "name": "stdout",
     "output_type": "stream",
     "text": [
      "JSON saved to /Users/aleksey.sushchikh/Desktop/GitHub/MIFIHackatonSberAutoSubscriptionAnalysis/data/model_data/catboost_optuna_m1.json\n"
     ]
    }
   ],
   "source": [
    "from catboost import CatBoostClassifier\n",
    "from pathlib import Path\n",
    "\n",
    "# Вместо __file__ используем текущее рабочее окружение\n",
    "BASE_DIR = Path.cwd().parent.parent\n",
    "MODEL_PATH = BASE_DIR / \"data\" / \"model_data\" / \"catboost_optuna_m1.cbm\"\n",
    "\n",
    "model = CatBoostClassifier()\n",
    "model.load_model(str(MODEL_PATH))\n",
    "\n",
    "# Сохраним в JSON\n",
    "OUT_JSON = BASE_DIR / \"data\" / \"model_data\" / \"catboost_optuna_m1.json\"\n",
    "model.save_model(\n",
    "    str(OUT_JSON),\n",
    "    format='json'\n",
    ")\n",
    "print(\"JSON saved to\", OUT_JSON)\n"
   ]
  },
  {
   "cell_type": "code",
   "execution_count": null,
   "id": "a295afc2-5f50-40fb-9b75-b94390e39ec0",
   "metadata": {},
   "outputs": [],
   "source": []
  }
 ],
 "metadata": {
  "kernelspec": {
   "display_name": "Python [conda env:base] *",
   "language": "python",
   "name": "conda-base-py"
  },
  "language_info": {
   "codemirror_mode": {
    "name": "ipython",
    "version": 3
   },
   "file_extension": ".py",
   "mimetype": "text/x-python",
   "name": "python",
   "nbconvert_exporter": "python",
   "pygments_lexer": "ipython3",
   "version": "3.12.7"
  }
 },
 "nbformat": 4,
 "nbformat_minor": 5
}
